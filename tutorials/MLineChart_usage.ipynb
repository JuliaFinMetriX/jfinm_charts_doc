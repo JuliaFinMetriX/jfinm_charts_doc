{
 "cells": [
  {
   "cell_type": "code",
   "execution_count": 1,
   "metadata": {
    "collapsed": true
   },
   "outputs": [],
   "source": [
    "using JFinM_Charts\n",
    "using TimeData"
   ]
  },
  {
   "cell_type": "markdown",
   "metadata": {},
   "source": [
    "- show chart customizations"
   ]
  },
  {
   "cell_type": "code",
   "execution_count": 2,
   "metadata": {
    "collapsed": false
   },
   "outputs": [
    {
     "data": {
      "text/plain": [
       "5-element Array{Symbol,1}:\n",
       " :chartType\n",
       " :width    \n",
       " :height   \n",
       " :yScale   \n",
       " :yLabel   "
      ]
     },
     "execution_count": 2,
     "metadata": {},
     "output_type": "execute_result"
    }
   ],
   "source": [
    "names(MLineChart)"
   ]
  },
  {
   "cell_type": "markdown",
   "metadata": {},
   "source": [
    "- load data"
   ]
  },
  {
   "cell_type": "code",
   "execution_count": 3,
   "metadata": {
    "collapsed": false
   },
   "outputs": [
    {
     "data": {
      "text/html": [
       "<p><strong>Timenum{Date}</strong></p><p>Dimensions: <strong>(2, 3)</strong></p><p>From: <strong>1962-12-31</strong>, To: <strong>1963-12-31</strong></p><table class=\"data-frame\"><tr><th></th><th>idx</th><th>BR</th><th>DE</th><th>US</th></tr><tr><th>1</th><td>1962-12-31</td><td>241.56079700457815</td><td>NA</td><td>3261.335760907687</td></tr><tr><th>2</th><td>1963-12-31</td><td>271.44150512656597</td><td>NA</td><td>3360.9737445857986</td></tr></table>"
      ],
      "text/plain": [
       "Timenum{Date}(2x3 DataFrame\n",
       "| Row | BR      | DE | US      |\n",
       "|-----|---------|----|---------|\n",
       "| 1   | 241.561 | NA | 3261.34 |\n",
       "| 2   | 271.442 | NA | 3360.97 |,[1962-12-31,1963-12-31])"
      ]
     },
     "execution_count": 3,
     "metadata": {},
     "output_type": "execute_result"
    }
   ],
   "source": [
    "data = readTimedata(\"../data/pseudo_gdpData.csv\")\n",
    "data[1:2, :]"
   ]
  },
  {
   "cell_type": "markdown",
   "metadata": {},
   "source": [
    "#### Declare default settings"
   ]
  },
  {
   "cell_type": "markdown",
   "metadata": {},
   "source": [
    "- specify default settings for all charts"
   ]
  },
  {
   "cell_type": "code",
   "execution_count": 4,
   "metadata": {
    "collapsed": false
   },
   "outputs": [
    {
     "data": {
      "text/plain": [
       "450"
      ]
     },
     "execution_count": 4,
     "metadata": {},
     "output_type": "execute_result"
    }
   ],
   "source": [
    "dataPath = \"../data/pseudo_gdpData.csv\"\n",
    "width = 900\n",
    "height = 450"
   ]
  },
  {
   "cell_type": "markdown",
   "metadata": {},
   "source": [
    "## Make default plot"
   ]
  },
  {
   "cell_type": "markdown",
   "metadata": {},
   "source": [
    "- set output path"
   ]
  },
  {
   "cell_type": "code",
   "execution_count": 5,
   "metadata": {
    "collapsed": false
   },
   "outputs": [
    {
     "data": {
      "text/plain": [
       "\"../charts/mlineChart1.html\""
      ]
     },
     "execution_count": 5,
     "metadata": {},
     "output_type": "execute_result"
    }
   ],
   "source": [
    "chrtPath = \"../charts/mlineChart1.html\""
   ]
  },
  {
   "cell_type": "markdown",
   "metadata": {},
   "source": [
    "- set up chart customization"
   ]
  },
  {
   "cell_type": "code",
   "execution_count": 6,
   "metadata": {
    "collapsed": false
   },
   "outputs": [
    {
     "data": {
      "text/plain": [
       "MLineChart(\"MLineChart\",900,400,\"lin\",\"\")"
      ]
     },
     "execution_count": 6,
     "metadata": {},
     "output_type": "execute_result"
    }
   ],
   "source": [
    "chrt = chart(MLineChart)"
   ]
  },
  {
   "cell_type": "markdown",
   "metadata": {},
   "source": [
    "- render chart"
   ]
  },
  {
   "cell_type": "code",
   "execution_count": 7,
   "metadata": {
    "collapsed": false
   },
   "outputs": [
    {
     "data": {
      "text/plain": [
       "(\"/home/jovyan/mount/data/pseudo_gdpData.csv\",\"/home/jovyan/mount/charts/mlineChart1.html\")"
      ]
     },
     "execution_count": 7,
     "metadata": {},
     "output_type": "execute_result"
    }
   ],
   "source": [
    "outData, outChart = renderHTML(data, chrt, outputPath = chrtPath, \n",
    "                               dataPath = dataPath, recycle = true)"
   ]
  },
  {
   "cell_type": "markdown",
   "metadata": {},
   "source": [
    "- include as iframe"
   ]
  },
  {
   "cell_type": "code",
   "execution_count": 8,
   "metadata": {
    "collapsed": false
   },
   "outputs": [
    {
     "data": {
      "text/html": [
       "<iframe src=\"../charts/mlineChart1.html\"  width=\"900\"height=\"450\"></iframe>"
      ],
      "text/plain": [
       "NB_Raw_HTML(\"<iframe src=\\\"../charts/mlineChart1.html\\\"  width=\\\"900\\\"height=\\\"450\\\"></iframe>\")"
      ]
     },
     "execution_count": 8,
     "metadata": {},
     "output_type": "execute_result"
    }
   ],
   "source": [
    "iframeCode = iframe(chrtPath, width = width, height = height)\n",
    "NB_Raw_HTML(iframeCode)"
   ]
  },
  {
   "cell_type": "markdown",
   "metadata": {},
   "source": [
    "## Add y axis title"
   ]
  },
  {
   "cell_type": "code",
   "execution_count": 9,
   "metadata": {
    "collapsed": false
   },
   "outputs": [
    {
     "data": {
      "text/html": [
       "<iframe src=\"../charts/mlineChart2.html\"  width=\"900\"height=\"450\"></iframe>"
      ],
      "text/plain": [
       "NB_Raw_HTML(\"<iframe src=\\\"../charts/mlineChart2.html\\\"  width=\\\"900\\\"height=\\\"450\\\"></iframe>\")"
      ]
     },
     "execution_count": 9,
     "metadata": {},
     "output_type": "execute_result"
    }
   ],
   "source": [
    "chrtPath = \"../charts/mlineChart2.html\"\n",
    "chrt = chart(MLineChart, yLabel = \"GDP per capita, in \\$\")\n",
    "outData, outChart = renderHTML(data, chrt, outputPath = chrtPath, \n",
    "                               dataPath = dataPath, recycle = true)\n",
    "iframeCode = iframe(chrtPath, width = width, height = height)\n",
    "NB_Raw_HTML(iframeCode)"
   ]
  },
  {
   "cell_type": "markdown",
   "metadata": {},
   "source": [
    "## Plot with log-scale"
   ]
  },
  {
   "cell_type": "code",
   "execution_count": 10,
   "metadata": {
    "collapsed": false
   },
   "outputs": [
    {
     "data": {
      "text/html": [
       "<iframe src=\"../charts/mlineChart3.html\"  width=\"900\"height=\"450\"></iframe>"
      ],
      "text/plain": [
       "NB_Raw_HTML(\"<iframe src=\\\"../charts/mlineChart3.html\\\"  width=\\\"900\\\"height=\\\"450\\\"></iframe>\")"
      ]
     },
     "execution_count": 10,
     "metadata": {},
     "output_type": "execute_result"
    }
   ],
   "source": [
    "chrtPath = \"../charts/mlineChart3.html\"\n",
    "chrt = chart(MLineChart, yLabel = \"GDP per capita, in \\$\", yScale = \"log\")\n",
    "outData, outChart = renderHTML(data, chrt, outputPath = chrtPath, \n",
    "                               dataPath = dataPath, recycle = true)\n",
    "iframeCode = iframe(chrtPath, width = width, height = height)\n",
    "NB_Raw_HTML(iframeCode)"
   ]
  },
  {
   "cell_type": "markdown",
   "metadata": {},
   "source": [
    "## Plot with multiple customizations"
   ]
  },
  {
   "cell_type": "code",
   "execution_count": 11,
   "metadata": {
    "collapsed": false
   },
   "outputs": [
    {
     "data": {
      "text/html": [
       "<iframe src=\"../charts/mlineChart4.html\"  width=\"850\"height=\"250\"></iframe>"
      ],
      "text/plain": [
       "NB_Raw_HTML(\"<iframe src=\\\"../charts/mlineChart4.html\\\"  width=\\\"850\\\"height=\\\"250\\\"></iframe>\")"
      ]
     },
     "execution_count": 11,
     "metadata": {},
     "output_type": "execute_result"
    }
   ],
   "source": [
    "chrtPath = \"../charts/mlineChart4.html\"\n",
    "chrt = chart(MLineChart, yLabel = \"GDP per capita, in \\$\", yScale = \"log\", width = 800, height = 200)\n",
    "outData, outChart = renderHTML(data, chrt, outputPath = chrtPath, \n",
    "                               dataPath = dataPath, recycle = true)\n",
    "iframeCode = iframe(chrtPath, width = 850, height = 250)\n",
    "NB_Raw_HTML(iframeCode)"
   ]
  }
 ],
 "metadata": {
  "kernelspec": {
   "display_name": "Julia",
   "name": "julia"
  },
  "language_info": {
   "name": "julia",
   "version": "0.3.5"
  }
 },
 "nbformat": 4,
 "nbformat_minor": 0
}
