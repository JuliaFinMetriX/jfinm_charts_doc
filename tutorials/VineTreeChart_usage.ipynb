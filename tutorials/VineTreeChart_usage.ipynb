{
 "cells": [
  {
   "cell_type": "code",
   "execution_count": 1,
   "metadata": {
    "collapsed": true
   },
   "outputs": [],
   "source": [
    "using JFinM_Charts\n",
    "using TimeData"
   ]
  },
  {
   "cell_type": "markdown",
   "metadata": {},
   "source": [
    "- show chart customizations"
   ]
  },
  {
   "cell_type": "code",
   "execution_count": 2,
   "metadata": {
    "collapsed": false
   },
   "outputs": [
    {
     "data": {
      "text/plain": [
       "5-element Array{Symbol,1}:\n",
       " :chartType \n",
       " :width     \n",
       " :height    \n",
       " :vSpace    \n",
       " :nodeRadius"
      ]
     },
     "execution_count": 2,
     "metadata": {},
     "output_type": "execute_result"
    }
   ],
   "source": [
    "names(VineTreeChart)"
   ]
  },
  {
   "cell_type": "markdown",
   "metadata": {},
   "source": [
    "- show default settings"
   ]
  },
  {
   "cell_type": "code",
   "execution_count": 3,
   "metadata": {
    "collapsed": false
   },
   "outputs": [
    {
     "data": {
      "text/plain": [
       "VineTreeChart(\"VineTreeChart\",200,500,100,12)"
      ]
     },
     "execution_count": 3,
     "metadata": {},
     "output_type": "execute_result"
    }
   ],
   "source": [
    "chart(VineTreeChart)"
   ]
  },
  {
   "cell_type": "markdown",
   "metadata": {},
   "source": [
    "- set up data"
   ]
  },
  {
   "cell_type": "code",
   "execution_count": 4,
   "metadata": {
    "collapsed": false
   },
   "outputs": [
    {
     "data": {
      "text/plain": [
       "6x6 Array{Int64,2}:\n",
       " 0  2  2  2  2  2\n",
       " 1  0  3  3  3  3\n",
       " 2  2  0  4  4  4\n",
       " 3  3  3  0  5  5\n",
       " 4  4  4  4  0  6\n",
       " 5  5  5  5  5  0"
      ]
     },
     "execution_count": 4,
     "metadata": {},
     "output_type": "execute_result"
    }
   ],
   "source": [
    "treeData = [0  2  2  2  2  2;\n",
    "            1  0  3  3  3  3;\n",
    "            2  2  0  4  4  4;\n",
    "            3  3  3  0  5  5;\n",
    "            4  4  4  4  0  6;\n",
    "            5  5  5  5  5  0]"
   ]
  },
  {
   "cell_type": "markdown",
   "metadata": {},
   "source": [
    "#### Declare default settings"
   ]
  },
  {
   "cell_type": "markdown",
   "metadata": {},
   "source": [
    "- specify default settings for all charts"
   ]
  },
  {
   "cell_type": "code",
   "execution_count": 5,
   "metadata": {
    "collapsed": false
   },
   "outputs": [
    {
     "data": {
      "text/plain": [
       "450"
      ]
     },
     "execution_count": 5,
     "metadata": {},
     "output_type": "execute_result"
    }
   ],
   "source": [
    "dataPath = \"treeDataJs\"\n",
    "width = 900\n",
    "height = 450"
   ]
  },
  {
   "cell_type": "markdown",
   "metadata": {},
   "source": [
    "## Make default plot"
   ]
  },
  {
   "cell_type": "code",
   "execution_count": 6,
   "metadata": {
    "collapsed": false
   },
   "outputs": [
    {
     "data": {
      "text/html": [
       "<iframe src=\"../charts/treeVineChart1.html\"  width=\"900\"height=\"450\"></iframe>"
      ],
      "text/plain": [
       "NB_Raw_HTML(\"<iframe src=\\\"../charts/treeVineChart1.html\\\"  width=\\\"900\\\"height=\\\"450\\\"></iframe>\")"
      ]
     },
     "execution_count": 6,
     "metadata": {},
     "output_type": "execute_result"
    }
   ],
   "source": [
    "chrtPath = \"../charts/treeVineChart1.html\"\n",
    "chrt = chart(VineTreeChart)\n",
    "outData, outChart = renderHTML(treeData, chrt, outputPath = chrtPath, \n",
    "                               dataPath = dataPath)\n",
    "iframeCode = iframe(chrtPath, width = width, height = height)\n",
    "NB_Raw_HTML(iframeCode)"
   ]
  },
  {
   "cell_type": "markdown",
   "metadata": {},
   "source": [
    "## Adjust vertical space"
   ]
  },
  {
   "cell_type": "code",
   "execution_count": 7,
   "metadata": {
    "collapsed": false
   },
   "outputs": [
    {
     "data": {
      "text/html": [
       "<iframe src=\"../charts/treeVineChart2.html\"  width=\"900\"height=\"300\"></iframe>"
      ],
      "text/plain": [
       "NB_Raw_HTML(\"<iframe src=\\\"../charts/treeVineChart2.html\\\"  width=\\\"900\\\"height=\\\"300\\\"></iframe>\")"
      ]
     },
     "execution_count": 7,
     "metadata": {},
     "output_type": "execute_result"
    }
   ],
   "source": [
    "chrtPath = \"../charts/treeVineChart2.html\"\n",
    "chrt = chart(VineTreeChart, vSpace = 50)\n",
    "outData, outChart = renderHTML(treeData, chrt, outputPath = chrtPath, \n",
    "                               dataPath = dataPath)\n",
    "iframeCode = iframe(chrtPath, width = width, height = 300)\n",
    "NB_Raw_HTML(iframeCode)"
   ]
  },
  {
   "cell_type": "markdown",
   "metadata": {},
   "source": [
    "#### Adjust horizontal space"
   ]
  },
  {
   "cell_type": "code",
   "execution_count": 8,
   "metadata": {
    "collapsed": false
   },
   "outputs": [
    {
     "data": {
      "text/html": [
       "<iframe src=\"../charts/treeVineChart3.html\"  width=\"900\"height=\"300\"></iframe>"
      ],
      "text/plain": [
       "NB_Raw_HTML(\"<iframe src=\\\"../charts/treeVineChart3.html\\\"  width=\\\"900\\\"height=\\\"300\\\"></iframe>\")"
      ]
     },
     "execution_count": 8,
     "metadata": {},
     "output_type": "execute_result"
    }
   ],
   "source": [
    "chrtPath = \"../charts/treeVineChart3.html\"\n",
    "chrt = chart(VineTreeChart, vSpace = 50, width = 100)\n",
    "outData, outChart = renderHTML(treeData, chrt, outputPath = chrtPath, \n",
    "                               dataPath = dataPath)\n",
    "iframeCode = iframe(chrtPath, width = width, height = 300)\n",
    "NB_Raw_HTML(iframeCode)"
   ]
  },
  {
   "cell_type": "markdown",
   "metadata": {},
   "source": [
    "## Plot with multiple customizations"
   ]
  },
  {
   "cell_type": "code",
   "execution_count": 9,
   "metadata": {
    "collapsed": false
   },
   "outputs": [
    {
     "data": {
      "text/html": [
       "<iframe src=\"../charts/treeVineChart4.html\"  width=\"500\"height=\"300\"></iframe>"
      ],
      "text/plain": [
       "NB_Raw_HTML(\"<iframe src=\\\"../charts/treeVineChart4.html\\\"  width=\\\"500\\\"height=\\\"300\\\"></iframe>\")"
      ]
     },
     "execution_count": 9,
     "metadata": {},
     "output_type": "execute_result"
    }
   ],
   "source": [
    "chrtPath = \"../charts/treeVineChart4.html\"\n",
    "chrt = chart(VineTreeChart, vSpace = 50, width = 70, nodeRadius = 8)\n",
    "outData, outChart = renderHTML(treeData, chrt, outputPath = chrtPath, \n",
    "                    dataPath = dataPath)\n",
    "iframeCode = iframe(chrtPath, width = 500, height = 300)\n",
    "NB_Raw_HTML(iframeCode)"
   ]
  }
 ],
 "metadata": {
  "kernelspec": {
   "display_name": "Julia",
   "name": "julia"
  },
  "language_info": {
   "name": "julia",
   "version": "0.3.5"
  }
 },
 "nbformat": 4,
 "nbformat_minor": 0
}
